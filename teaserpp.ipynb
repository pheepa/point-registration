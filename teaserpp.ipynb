{
 "cells": [
  {
   "cell_type": "code",
   "execution_count": 1,
   "id": "disciplinary-federal",
   "metadata": {},
   "outputs": [],
   "source": [
    "import copy\n",
    "import time\n",
    "import numpy as np\n",
    "import open3d as o3d\n",
    "import teaserpp_python"
   ]
  },
  {
   "cell_type": "code",
   "execution_count": 3,
   "id": "phantom-ozone",
   "metadata": {},
   "outputs": [],
   "source": [
    "full_cloud = o3d.io.read_point_cloud(\"input/full.xyz\", format='xyz')\n",
    "full = np.transpose(np.asarray(full_cloud.points))\n",
    "\n",
    "left_cloud = o3d.io.read_point_cloud(\"input/left.xyz\", format='xyz')\n",
    "left = np.transpose(np.asarray(left_cloud.points))\n",
    "\n",
    "# # Populating the parameters\n",
    "# solver_params = teaserpp_python.RobustRegistrationSolver.Params()\n",
    "# solver_params.cbar2 = 1\n",
    "# solver_params.noise_bound = NOISE_BOUND\n",
    "# solver_params.estimate_scaling = False\n",
    "# solver_params.rotation_estimation_algorithm = teaserpp_python.RobustRegistrationSolver.ROTATION_ESTIMATION_ALGORITHM.GNC_TLS\n",
    "# solver_params.rotation_gnc_factor = 1.4\n",
    "# solver_params.rotation_max_iterations = 100\n",
    "# solver_params.rotation_cost_threshold = 1e-12\n",
    "\n",
    "# solver = teaserpp_python.RobustRegistrationSolver(solver_params)\n",
    "solver = teaserpp_python.RobustRegistrationSolver()"
   ]
  },
  {
   "cell_type": "code",
   "execution_count": null,
   "id": "promotional-palestine",
   "metadata": {
    "pycharm": {
     "is_executing": true
    }
   },
   "outputs": [],
   "source": [
    "%%time\n",
    "solver.solve(full, left)\n",
    "solution = solver.getSolution()"
   ]
  },
  {
   "cell_type": "code",
   "execution_count": null,
   "outputs": [],
   "source": [],
   "metadata": {
    "collapsed": false,
    "pycharm": {
     "name": "#%%\n"
    }
   }
  }
 ],
 "metadata": {
  "kernelspec": {
   "display_name": "Python 3",
   "language": "python",
   "name": "python3"
  },
  "language_info": {
   "codemirror_mode": {
    "name": "ipython",
    "version": 3
   },
   "file_extension": ".py",
   "mimetype": "text/x-python",
   "name": "python",
   "nbconvert_exporter": "python",
   "pygments_lexer": "ipython3",
   "version": "3.8.5"
  }
 },
 "nbformat": 4,
 "nbformat_minor": 5
}