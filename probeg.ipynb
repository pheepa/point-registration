{
 "cells": [
  {
   "cell_type": "code",
   "execution_count": 53,
   "id": "certain-marker",
   "metadata": {},
   "outputs": [],
   "source": [
    "import copy\n",
    "import time\n",
    "import numpy as np\n",
    "import open3d as o3\n",
    "from probreg import cpd, filterreg, gmmtree, l2dist_regs, bcpd"
   ]
  },
  {
   "cell_type": "code",
   "execution_count": 54,
   "id": "covered-climb",
   "metadata": {},
   "outputs": [],
   "source": [
    "use_cuda = True\n",
    "if use_cuda:\n",
    "    import cupy as cp\n",
    "    to_cpu = cp.asnumpy\n",
    "    cp.cuda.set_allocator(cp.cuda.MemoryPool().malloc)\n",
    "else:\n",
    "    cp = np\n",
    "    to_cpu = lambda x: x"
   ]
  },
  {
   "cell_type": "code",
   "execution_count": 55,
   "id": "interpreted-berkeley",
   "metadata": {},
   "outputs": [],
   "source": [
    "def vis(source, target, result):\n",
    "    source.paint_uniform_color([1, 0, 0]) #r\n",
    "    target.paint_uniform_color([0, 1, 0]) #g\n",
    "    result.paint_uniform_color([0, 0, 1]) #b\n",
    "    o3.visualization.draw_geometries([source, target, result])"
   ]
  },
  {
   "cell_type": "code",
   "execution_count": 56,
   "id": "verbal-display",
   "metadata": {},
   "outputs": [],
   "source": [
    "left = o3.io.read_point_cloud(\"input/left.xyz\", format='xyz')\n",
    "full = o3.io.read_point_cloud(\"input/full.xyz\", format='xyz')\n",
    "right = o3.io.read_point_cloud(\"input/right.xyz\", format='xyz')\n",
    "\n",
    "ROOM = o3.io.read_point_cloud(\"input/ROOM.xyz\", format='xyz')\n",
    "MAP = o3.io.read_point_cloud(\"input/MAP.xyz\", format='xyz')"
   ]
  },
  {
   "cell_type": "code",
   "execution_count": 57,
   "id": "historic-exemption",
   "metadata": {},
   "outputs": [],
   "source": [
    "left_01 = left.voxel_down_sample(voxel_size=0.01)\n",
    "right_01 = right.voxel_down_sample(voxel_size=0.01)\n",
    "MAP_01 = MAP.voxel_down_sample(voxel_size=0.01)\n",
    "ROOM_01 = ROOM.voxel_down_sample(voxel_size=0.01)\n",
    "full_01 = full.voxel_down_sample(voxel_size=0.01)\n",
    "\n",
    "left_005 = left.voxel_down_sample(voxel_size=0.005)\n",
    "full_005 = full.voxel_down_sample(voxel_size=0.005)"
   ]
  },
  {
   "cell_type": "markdown",
   "id": "outstanding-belarus",
   "metadata": {},
   "source": [
    "## CPD"
   ]
  },
  {
   "cell_type": "code",
   "execution_count": 62,
   "id": "latest-center",
   "metadata": {},
   "outputs": [
    {
     "name": "stdout",
     "output_type": "stream",
     "text": [
      "CPU times: user 46.2 s, sys: 35.9 s, total: 1min 22s\n",
      "Wall time: 35.7 s\n"
     ]
    }
   ],
   "source": [
    "%%time\n",
    "tf_param, _, _ = cpd.registration_cpd(left_01, full_01)\n"
   ]
  },
  {
   "cell_type": "code",
   "execution_count": 63,
   "id": "exotic-modem",
   "metadata": {},
   "outputs": [],
   "source": [
    "result_cpd_01 = copy.deepcopy(left_01)\n",
    "result_cpd_01.points = tf_param.transform(result_cpd_01.points)\n",
    "vis(left_01, full_01, result_cpd_01)"
   ]
  },
  {
   "cell_type": "code",
   "execution_count": 64,
   "outputs": [
    {
     "name": "stdout",
     "output_type": "stream",
     "text": [
      "CPU times: user 18.9 s, sys: 30.3 s, total: 49.2 s\n",
      "Wall time: 9.07 s\n"
     ]
    }
   ],
   "source": [
    "%%time\n",
    "tf_param, _, _ = cpd.registration_cpd(left_01, right_01)"
   ],
   "metadata": {
    "collapsed": false,
    "pycharm": {
     "name": "#%%\n"
    }
   }
  },
  {
   "cell_type": "code",
   "execution_count": 65,
   "outputs": [],
   "source": [
    "result_cpd_01 = copy.deepcopy(left_01)\n",
    "result_cpd_01.points = tf_param.transform(result_cpd_01.points)\n",
    "vis(left_01, right_01, result_cpd_01)\n"
   ],
   "metadata": {
    "collapsed": false,
    "pycharm": {
     "name": "#%%\n"
    }
   }
  },
  {
   "cell_type": "markdown",
   "id": "twenty-liechtenstein",
   "metadata": {},
   "source": [
    "## FilterReg"
   ]
  },
  {
   "cell_type": "markdown",
   "id": "trained-summer",
   "metadata": {},
   "source": [
    "0.005:"
   ]
  },
  {
   "cell_type": "code",
   "execution_count": 48,
   "id": "great-essay",
   "metadata": {},
   "outputs": [
    {
     "name": "stdout",
     "output_type": "stream",
     "text": [
      "CPU times: user 939 ms, sys: 18.7 ms, total: 957 ms\n",
      "Wall time: 204 ms\n"
     ]
    }
   ],
   "source": [
    "%%time\n",
    "tf_param, _, _ = filterreg.registration_filterreg(left_005, full_005)"
   ]
  },
  {
   "cell_type": "code",
   "execution_count": 49,
   "id": "magnetic-marshall",
   "metadata": {},
   "outputs": [],
   "source": [
    "result_fr_005 = copy.deepcopy(left_005)\n",
    "result_fr_005.points = tf_param.transform(result_fr_005.points)\n",
    "vis(left_005, full_005, result_fr_005)"
   ]
  },
  {
   "cell_type": "markdown",
   "id": "understood-fleet",
   "metadata": {},
   "source": [
    "0.01:"
   ]
  },
  {
   "cell_type": "code",
   "execution_count": 60,
   "id": "infinite-winning",
   "metadata": {},
   "outputs": [
    {
     "name": "stdout",
     "output_type": "stream",
     "text": [
      "CPU times: user 859 ms, sys: 45.5 ms, total: 905 ms\n",
      "Wall time: 189 ms\n"
     ]
    }
   ],
   "source": [
    "%%time\n",
    "tf_param, _, _ = filterreg.registration_filterreg(left_01, full_01)"
   ]
  },
  {
   "cell_type": "code",
   "execution_count": 61,
   "id": "choice-geography",
   "metadata": {},
   "outputs": [],
   "source": [
    "result_fr_01 = copy.deepcopy(left_01)\n",
    "result_fr_01.points = tf_param.transform(result_fr_01.points)\n",
    "vis(left_01, full_01, result_fr_01)"
   ]
  },
  {
   "cell_type": "markdown",
   "id": "adequate-blind",
   "metadata": {},
   "source": [
    "left -> right"
   ]
  },
  {
   "cell_type": "code",
   "execution_count": 35,
   "id": "exclusive-listening",
   "metadata": {},
   "outputs": [
    {
     "name": "stdout",
     "output_type": "stream",
     "text": [
      "CPU times: user 708 ms, sys: 101 ms, total: 809 ms\n",
      "Wall time: 141 ms\n"
     ]
    }
   ],
   "source": [
    "%%time\n",
    "tf_param, _, _ = filterreg.registration_filterreg(left_01, right_01)\n"
   ]
  },
  {
   "cell_type": "code",
   "execution_count": 36,
   "id": "supposed-carbon",
   "metadata": {},
   "outputs": [],
   "source": [
    "result_fr_01_lr = copy.deepcopy(left_01)\n",
    "result_fr_01_lr.points = tf_param.transform(result_fr_01_lr.points)\n",
    "\n",
    "vis(left_01, right_01, result_fr_01_lr)"
   ]
  },
  {
   "cell_type": "markdown",
   "id": "precise-stable",
   "metadata": {},
   "source": [
    "ROOM -> MAP"
   ]
  },
  {
   "cell_type": "code",
   "execution_count": 86,
   "id": "controversial-pound",
   "metadata": {},
   "outputs": [
    {
     "ename": "MemoryError",
     "evalue": "std::bad_alloc",
     "output_type": "error",
     "traceback": [
      "\u001B[0;31m---------------------------------------------------------------------------\u001B[0m",
      "\u001B[0;31mMemoryError\u001B[0m                               Traceback (most recent call last)",
      "\u001B[0;32m<ipython-input-86-4ca79cfc1f44>\u001B[0m in \u001B[0;36m<module>\u001B[0;34m\u001B[0m\n\u001B[1;32m      1\u001B[0m \u001B[0mstart_time\u001B[0m \u001B[0;34m=\u001B[0m \u001B[0mtime\u001B[0m\u001B[0;34m.\u001B[0m\u001B[0mtime\u001B[0m\u001B[0;34m(\u001B[0m\u001B[0;34m)\u001B[0m\u001B[0;34m\u001B[0m\u001B[0;34m\u001B[0m\u001B[0m\n\u001B[0;32m----> 2\u001B[0;31m \u001B[0mtf_param\u001B[0m\u001B[0;34m,\u001B[0m \u001B[0m_\u001B[0m\u001B[0;34m,\u001B[0m \u001B[0m_\u001B[0m \u001B[0;34m=\u001B[0m \u001B[0mfilterreg\u001B[0m\u001B[0;34m.\u001B[0m\u001B[0mregistration_filterreg\u001B[0m\u001B[0;34m(\u001B[0m\u001B[0mROOM_01\u001B[0m\u001B[0;34m,\u001B[0m \u001B[0mMAP_01\u001B[0m\u001B[0;34m)\u001B[0m\u001B[0;34m\u001B[0m\u001B[0;34m\u001B[0m\u001B[0m\n\u001B[0m\u001B[1;32m      3\u001B[0m \u001B[0mprint\u001B[0m\u001B[0;34m(\u001B[0m\u001B[0mtime\u001B[0m\u001B[0;34m.\u001B[0m\u001B[0mtime\u001B[0m\u001B[0;34m(\u001B[0m\u001B[0;34m)\u001B[0m \u001B[0;34m-\u001B[0m \u001B[0mstart_time\u001B[0m\u001B[0;34m)\u001B[0m\u001B[0;34m\u001B[0m\u001B[0;34m\u001B[0m\u001B[0m\n\u001B[1;32m      4\u001B[0m \u001B[0;34m\u001B[0m\u001B[0m\n\u001B[1;32m      5\u001B[0m \u001B[0mresult_fr_01_rm\u001B[0m \u001B[0;34m=\u001B[0m \u001B[0mcopy\u001B[0m\u001B[0;34m.\u001B[0m\u001B[0mdeepcopy\u001B[0m\u001B[0;34m(\u001B[0m\u001B[0mROOM_01\u001B[0m\u001B[0;34m)\u001B[0m\u001B[0;34m\u001B[0m\u001B[0;34m\u001B[0m\u001B[0m\n",
      "\u001B[0;32m~/venvs/cloud/lib/python3.8/site-packages/probreg/filterreg.py\u001B[0m in \u001B[0;36mregistration_filterreg\u001B[0;34m(source, target, target_normals, sigma2, update_sigma2, w, objective_type, maxiter, tol, min_sigma2, feature_fn, callbacks, **kargs)\u001B[0m\n\u001B[1;32m    285\u001B[0m     \u001B[0mfrg\u001B[0m \u001B[0;34m=\u001B[0m \u001B[0mRigidFilterReg\u001B[0m\u001B[0;34m(\u001B[0m\u001B[0mcv\u001B[0m\u001B[0;34m(\u001B[0m\u001B[0msource\u001B[0m\u001B[0;34m)\u001B[0m\u001B[0;34m,\u001B[0m \u001B[0mcv\u001B[0m\u001B[0;34m(\u001B[0m\u001B[0mtarget_normals\u001B[0m\u001B[0;34m)\u001B[0m\u001B[0;34m,\u001B[0m \u001B[0msigma2\u001B[0m\u001B[0;34m,\u001B[0m \u001B[0mupdate_sigma2\u001B[0m\u001B[0;34m,\u001B[0m \u001B[0;34m**\u001B[0m\u001B[0mkargs\u001B[0m\u001B[0;34m)\u001B[0m\u001B[0;34m\u001B[0m\u001B[0;34m\u001B[0m\u001B[0m\n\u001B[1;32m    286\u001B[0m     \u001B[0mfrg\u001B[0m\u001B[0;34m.\u001B[0m\u001B[0mset_callbacks\u001B[0m\u001B[0;34m(\u001B[0m\u001B[0mcallbacks\u001B[0m\u001B[0;34m)\u001B[0m\u001B[0;34m\u001B[0m\u001B[0;34m\u001B[0m\u001B[0m\n\u001B[0;32m--> 287\u001B[0;31m     return frg.registration(cv(target), w=w, objective_type=objective_type, maxiter=maxiter,\n\u001B[0m\u001B[1;32m    288\u001B[0m                             tol=tol, min_sigma2=min_sigma2, feature_fn=feature_fn)\n",
      "\u001B[0;32m~/venvs/cloud/lib/python3.8/site-packages/probreg/filterreg.py\u001B[0m in \u001B[0;36mregistration\u001B[0;34m(self, target, w, objective_type, maxiter, tol, min_sigma2, feature_fn)\u001B[0m\n\u001B[1;32m    121\u001B[0m         \u001B[0;32mif\u001B[0m \u001B[0mself\u001B[0m\u001B[0;34m.\u001B[0m\u001B[0m_sigma2\u001B[0m \u001B[0;32mis\u001B[0m \u001B[0;32mNone\u001B[0m\u001B[0;34m:\u001B[0m\u001B[0;34m\u001B[0m\u001B[0;34m\u001B[0m\u001B[0m\n\u001B[1;32m    122\u001B[0m             \u001B[0mfsource\u001B[0m \u001B[0;34m=\u001B[0m \u001B[0mfeature_fn\u001B[0m\u001B[0;34m(\u001B[0m\u001B[0mself\u001B[0m\u001B[0;34m.\u001B[0m\u001B[0m_source\u001B[0m\u001B[0;34m)\u001B[0m\u001B[0;34m\u001B[0m\u001B[0;34m\u001B[0m\u001B[0m\n\u001B[0;32m--> 123\u001B[0;31m             \u001B[0mself\u001B[0m\u001B[0;34m.\u001B[0m\u001B[0m_sigma2\u001B[0m \u001B[0;34m=\u001B[0m \u001B[0mmax\u001B[0m\u001B[0;34m(\u001B[0m\u001B[0mmu\u001B[0m\u001B[0;34m.\u001B[0m\u001B[0msquared_kernel_sum\u001B[0m\u001B[0;34m(\u001B[0m\u001B[0mfsource\u001B[0m\u001B[0;34m,\u001B[0m \u001B[0mftarget\u001B[0m\u001B[0;34m)\u001B[0m\u001B[0;34m,\u001B[0m \u001B[0mmin_sigma2\u001B[0m\u001B[0;34m)\u001B[0m\u001B[0;34m\u001B[0m\u001B[0;34m\u001B[0m\u001B[0m\n\u001B[0m\u001B[1;32m    124\u001B[0m         \u001B[0;32mfor\u001B[0m \u001B[0mi\u001B[0m \u001B[0;32min\u001B[0m \u001B[0mrange\u001B[0m\u001B[0;34m(\u001B[0m\u001B[0mmaxiter\u001B[0m\u001B[0;34m)\u001B[0m\u001B[0;34m:\u001B[0m\u001B[0;34m\u001B[0m\u001B[0;34m\u001B[0m\u001B[0m\n\u001B[1;32m    125\u001B[0m             \u001B[0mt_source\u001B[0m \u001B[0;34m=\u001B[0m \u001B[0mself\u001B[0m\u001B[0;34m.\u001B[0m\u001B[0m_tf_result\u001B[0m\u001B[0;34m.\u001B[0m\u001B[0mtransform\u001B[0m\u001B[0;34m(\u001B[0m\u001B[0mself\u001B[0m\u001B[0;34m.\u001B[0m\u001B[0m_source\u001B[0m\u001B[0;34m)\u001B[0m\u001B[0;34m\u001B[0m\u001B[0;34m\u001B[0m\u001B[0m\n",
      "\u001B[0;32m~/venvs/cloud/lib/python3.8/site-packages/probreg/math_utils.py\u001B[0m in \u001B[0;36msquared_kernel_sum\u001B[0;34m(x, y)\u001B[0m\n\u001B[1;32m     23\u001B[0m \u001B[0;34m\u001B[0m\u001B[0m\n\u001B[1;32m     24\u001B[0m \u001B[0;32mdef\u001B[0m \u001B[0msquared_kernel_sum\u001B[0m\u001B[0;34m(\u001B[0m\u001B[0mx\u001B[0m\u001B[0;34m,\u001B[0m \u001B[0my\u001B[0m\u001B[0;34m)\u001B[0m\u001B[0;34m:\u001B[0m\u001B[0;34m\u001B[0m\u001B[0;34m\u001B[0m\u001B[0m\n\u001B[0;32m---> 25\u001B[0;31m     \u001B[0;32mreturn\u001B[0m \u001B[0m_math\u001B[0m\u001B[0;34m.\u001B[0m\u001B[0msquared_kernel\u001B[0m\u001B[0;34m(\u001B[0m\u001B[0mx\u001B[0m\u001B[0;34m,\u001B[0m \u001B[0my\u001B[0m\u001B[0;34m)\u001B[0m\u001B[0;34m.\u001B[0m\u001B[0msum\u001B[0m\u001B[0;34m(\u001B[0m\u001B[0;34m)\u001B[0m \u001B[0;34m/\u001B[0m \u001B[0;34m(\u001B[0m\u001B[0mx\u001B[0m\u001B[0;34m.\u001B[0m\u001B[0mshape\u001B[0m\u001B[0;34m[\u001B[0m\u001B[0;36m0\u001B[0m\u001B[0;34m]\u001B[0m \u001B[0;34m*\u001B[0m \u001B[0mx\u001B[0m\u001B[0;34m.\u001B[0m\u001B[0mshape\u001B[0m\u001B[0;34m[\u001B[0m\u001B[0;36m1\u001B[0m\u001B[0;34m]\u001B[0m \u001B[0;34m*\u001B[0m \u001B[0my\u001B[0m\u001B[0;34m.\u001B[0m\u001B[0mshape\u001B[0m\u001B[0;34m[\u001B[0m\u001B[0;36m0\u001B[0m\u001B[0;34m]\u001B[0m\u001B[0;34m)\u001B[0m\u001B[0;34m\u001B[0m\u001B[0;34m\u001B[0m\u001B[0m\n\u001B[0m\u001B[1;32m     26\u001B[0m \u001B[0;34m\u001B[0m\u001B[0m\n\u001B[1;32m     27\u001B[0m \u001B[0;34m\u001B[0m\u001B[0m\n",
      "\u001B[0;31mMemoryError\u001B[0m: std::bad_alloc"
     ]
    }
   ],
   "source": [
    "start_time = time.time()\n",
    "tf_param, _, _ = filterreg.registration_filterreg(ROOM_01, MAP_01)\n",
    "print(time.time() - start_time)\n",
    "\n",
    "result_fr_01_rm = copy.deepcopy(ROOM_01)\n",
    "result_fr_01_rm.points = tf_param.transform(result_fr_01_rm.points)"
   ]
  },
  {
   "cell_type": "code",
   "execution_count": null,
   "id": "hollow-protection",
   "metadata": {},
   "outputs": [],
   "source": [
    "vis(ROOM_01, MAP_01, result_fr_01_rm)"
   ]
  },
  {
   "cell_type": "markdown",
   "id": "bizarre-tackle",
   "metadata": {},
   "source": [
    "## GMM Tree"
   ]
  },
  {
   "cell_type": "code",
   "execution_count": 37,
   "id": "athletic-thickness",
   "metadata": {},
   "outputs": [
    {
     "name": "stdout",
     "output_type": "stream",
     "text": [
      "CPU times: user 1min 38s, sys: 280 ms, total: 1min 39s\n",
      "Wall time: 8.61 s\n"
     ]
    }
   ],
   "source": [
    "%%time\n",
    "tf_param, _ = gmmtree.registration_gmmtree(left_01, full_01)"
   ]
  },
  {
   "cell_type": "code",
   "execution_count": 38,
   "id": "innocent-strain",
   "metadata": {},
   "outputs": [],
   "source": [
    "result_gmm_01 = copy.deepcopy(left_01)\n",
    "result_gmm_01.points = tf_param.transform(result_gmm_01.points)\n",
    "vis(left_01, full_01, result_gmm_01)"
   ]
  },
  {
   "cell_type": "markdown",
   "source": [
    "left->right"
   ],
   "metadata": {
    "collapsed": false,
    "pycharm": {
     "name": "#%% md\n"
    }
   }
  },
  {
   "cell_type": "code",
   "execution_count": 39,
   "outputs": [
    {
     "name": "stdout",
     "output_type": "stream",
     "text": [
      "CPU times: user 57.5 s, sys: 391 ms, total: 57.9 s\n",
      "Wall time: 5.42 s\n"
     ]
    }
   ],
   "source": [
    "%%time\n",
    "tf_param, _ = gmmtree.registration_gmmtree(left_01, right_01)"
   ],
   "metadata": {
    "collapsed": false,
    "pycharm": {
     "name": "#%%\n"
    }
   }
  },
  {
   "cell_type": "code",
   "execution_count": 40,
   "outputs": [],
   "source": [
    "result_gmm_01 = copy.deepcopy(left_01)\n",
    "result_gmm_01.points = tf_param.transform(result_gmm_01.points)\n",
    "vis(left_01, right_01, result_gmm_01)"
   ],
   "metadata": {
    "collapsed": false,
    "pycharm": {
     "name": "#%%\n"
    }
   }
  },
  {
   "cell_type": "markdown",
   "id": "average-remove",
   "metadata": {},
   "source": [
    "## SVR"
   ]
  },
  {
   "cell_type": "code",
   "execution_count": 41,
   "id": "suffering-penny",
   "metadata": {},
   "outputs": [
    {
     "name": "stdout",
     "output_type": "stream",
     "text": [
      "CPU times: user 4.41 s, sys: 21.3 ms, total: 4.43 s\n",
      "Wall time: 844 ms\n"
     ]
    }
   ],
   "source": [
    "%%time\n",
    "tf_param = l2dist_regs.registration_svr(left_01, full_01)"
   ]
  },
  {
   "cell_type": "code",
   "execution_count": 42,
   "id": "hazardous-pound",
   "metadata": {},
   "outputs": [],
   "source": [
    "result_svr_01 = copy.deepcopy(left_01)\n",
    "result_svr_01.points = tf_param.transform(result_svr_01.points)\n",
    "\n",
    "vis(left_01, full_01, result_svr_01)"
   ]
  },
  {
   "cell_type": "markdown",
   "source": [
    "left->right"
   ],
   "metadata": {
    "collapsed": false,
    "pycharm": {
     "name": "#%% md\n"
    }
   }
  },
  {
   "cell_type": "code",
   "execution_count": 43,
   "outputs": [
    {
     "name": "stdout",
     "output_type": "stream",
     "text": [
      "CPU times: user 1.95 s, sys: 0 ns, total: 1.95 s\n",
      "Wall time: 237 ms\n"
     ]
    }
   ],
   "source": [
    "%%time\n",
    "tf_param = l2dist_regs.registration_svr(left_01, right_01)"
   ],
   "metadata": {
    "collapsed": false,
    "pycharm": {
     "name": "#%%\n"
    }
   }
  },
  {
   "cell_type": "code",
   "execution_count": 44,
   "outputs": [],
   "source": [
    "result_svr_01 = copy.deepcopy(left_01)\n",
    "result_svr_01.points = tf_param.transform(result_svr_01.points)\n",
    "\n",
    "vis(left_01, right_01, result_svr_01)"
   ],
   "metadata": {
    "collapsed": false,
    "pycharm": {
     "name": "#%%\n"
    }
   }
  },
  {
   "cell_type": "markdown",
   "source": [
    "# BCPD"
   ],
   "metadata": {
    "collapsed": false,
    "pycharm": {
     "name": "#%% md\n"
    }
   }
  },
  {
   "cell_type": "markdown",
   "source": [
    "left->full"
   ],
   "metadata": {
    "collapsed": false,
    "pycharm": {
     "name": "#%% md\n"
    }
   }
  },
  {
   "cell_type": "code",
   "execution_count": 51,
   "outputs": [
    {
     "name": "stdout",
     "output_type": "stream",
     "text": [
      "CPU times: user 3min 1s, sys: 1min 24s, total: 4min 25s\n",
      "Wall time: 1min 43s\n"
     ]
    }
   ],
   "source": [
    "%%time\n",
    "tf_param = bcpd.registration_bcpd(left_01, full_01)"
   ],
   "metadata": {
    "collapsed": false,
    "pycharm": {
     "name": "#%%\n"
    }
   }
  },
  {
   "cell_type": "code",
   "execution_count": 52,
   "outputs": [],
   "source": [
    "result_bcpd_01 = copy.deepcopy(left_01)\n",
    "result_bcpd_01.points = tf_param.transform(result_svr_01.points)\n",
    "\n",
    "vis(left_01, right_01, result_bcpd_01)"
   ],
   "metadata": {
    "collapsed": false,
    "pycharm": {
     "name": "#%%\n"
    }
   }
  },
  {
   "cell_type": "code",
   "execution_count": null,
   "outputs": [],
   "source": [],
   "metadata": {
    "collapsed": false,
    "pycharm": {
     "name": "#%%\n"
    }
   }
  }
 ],
 "metadata": {
  "kernelspec": {
   "display_name": "Python 3",
   "language": "python",
   "name": "python3"
  },
  "language_info": {
   "codemirror_mode": {
    "name": "ipython",
    "version": 3
   },
   "file_extension": ".py",
   "mimetype": "text/x-python",
   "name": "python",
   "nbconvert_exporter": "python",
   "pygments_lexer": "ipython3",
   "version": "3.8.5"
  }
 },
 "nbformat": 4,
 "nbformat_minor": 5
}